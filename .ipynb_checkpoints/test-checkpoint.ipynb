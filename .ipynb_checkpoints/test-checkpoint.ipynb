{
 "cells": [
  {
   "cell_type": "markdown",
   "id": "a5cded50",
   "metadata": {},
   "source": [
    "## Install python packages and Import libraries"
   ]
  },
  {
   "cell_type": "markdown",
   "id": "f95a487c",
   "metadata": {},
   "source": [
    "!type python"
   ]
  },
  {
   "cell_type": "markdown",
   "id": "736db823",
   "metadata": {},
   "source": [
    "pip install dynamax"
   ]
  },
  {
   "cell_type": "code",
   "execution_count": 8,
   "id": "357c3a34",
   "metadata": {},
   "outputs": [],
   "source": [
    "import jax.numpy as jnp\n",
    "import jax.random as jr"
   ]
  },
  {
   "cell_type": "markdown",
   "id": "7da81c6c",
   "metadata": {},
   "source": [
    "pip install matplotlib"
   ]
  },
  {
   "cell_type": "code",
   "execution_count": 12,
   "id": "ef28b15c",
   "metadata": {},
   "outputs": [],
   "source": [
    "import matplotlib.pyplot as plt\n",
    "import seaborn as sns"
   ]
  },
  {
   "cell_type": "code",
   "execution_count": 13,
   "id": "01f41200",
   "metadata": {},
   "outputs": [],
   "source": [
    "from dynamax.hidden_markov_model import LinearAutoregressiveHMM\n",
    "from dynamax.utils.plotting import gradient_cmap\n",
    "from dynamax.utils.utils import random_rotation\n"
   ]
  },
  {
   "cell_type": "code",
   "execution_count": 14,
   "id": "682f54c0",
   "metadata": {},
   "outputs": [
    {
     "data": {
      "text/plain": [
       "<matplotlib.colorbar.Colorbar at 0x285c01310>"
      ]
     },
     "execution_count": 14,
     "metadata": {},
     "output_type": "execute_result"
    },
    {
     "data": {
      "image/png": "[encoded data removed]",
      "text/plain": [
       "<Figure size 640x480 with 2 Axes>"
      ]
     },
     "metadata": {},
     "output_type": "display_data"
    }
   ],
   "source": [
    "num_states = 5\n",
    "transition_probs = (jnp.arange(num_states)**10).astype(float)\n",
    "transition_probs /= transition_probs.sum()\n",
    "transition_matrix = jnp.zeros((num_states, num_states))\n",
    "for k, p in enumerate(transition_probs[::-1]):\n",
    "    transition_matrix += jnp.roll(p * jnp.eye(num_states), k, axis=1)\n",
    "    \n",
    "plt.imshow(transition_matrix, vmin=0, vmax=1, cmap=\"Greys\")\n",
    "plt.xlabel(\"next state\")\n",
    "plt.ylabel(\"current state\")\n",
    "plt.title(\"transition matrix\")\n",
    "plt.colorbar()"
   ]
  },
  {
   "cell_type": "code",
   "execution_count": 16,
   "id": "33d6cef8",
   "metadata": {},
   "outputs": [
    {
     "name": "stdout",
     "output_type": "stream",
     "text": [
      "(5, 5)\n"
     ]
    }
   ],
   "source": [
    "print(transition_matrix.shape)"
   ]
  },
  {
   "cell_type": "code",
   "execution_count": 17,
   "id": "b86ed85e",
   "metadata": {},
   "outputs": [],
   "source": [
    "emission_dim = 2\n",
    "num_lags = 1\n",
    "\n",
    "keys = jr.split(jr.PRNGKey(0), num_states)\n",
    "angles = jnp.linspace(0, 2 * jnp.pi, num_states, endpoint=False)\n",
    "theta = jnp.pi / 25 # rotational frequency\n",
    "weights = jnp.array([0.8 * random_rotation(key, emission_dim, theta=theta) for key in keys])\n",
    "biases = jnp.column_stack([jnp.cos(angles), jnp.sin(angles), jnp.zeros((num_states, emission_dim - 2))])\n",
    "covariances = jnp.tile(0.001 * jnp.eye(emission_dim), (num_states, 1, 1))\n",
    "\n",
    "# Compute the stationary points\n",
    "stationary_points = jnp.linalg.solve(jnp.eye(emission_dim) - weights, biases)\n"
   ]
  },
  {
   "cell_type": "code",
   "execution_count": 18,
   "id": "0b93c83f",
   "metadata": {},
   "outputs": [
    {
     "data": {
      "text/plain": [
       "Array([[1524306142, 2595015335],\n",
       "       [1836460763,  990488084],\n",
       "       [1416732029, 1887795613],\n",
       "       [1078027127, 1191019179],\n",
       "       [3297765038, 3069809391]], dtype=uint32)"
      ]
     },
     "execution_count": 18,
     "metadata": {},
     "output_type": "execute_result"
    }
   ],
   "source": [
    "keys"
   ]
  },
  {
   "cell_type": "code",
   "execution_count": 19,
   "id": "86fcfb86",
   "metadata": {},
   "outputs": [
    {
     "data": {
      "text/plain": [
       "Array([[[ 0.79369175,  0.10026659],\n",
       "        [-0.1002666 ,  0.7936918 ]],\n",
       "\n",
       "       [[ 0.7936918 ,  0.10026659],\n",
       "        [-0.1002666 ,  0.7936918 ]],\n",
       "\n",
       "       [[ 0.79369175,  0.10026657],\n",
       "        [-0.1002666 ,  0.7936918 ]],\n",
       "\n",
       "       [[ 0.7936918 ,  0.10026665],\n",
       "        [-0.10026653,  0.7936918 ]],\n",
       "\n",
       "       [[ 0.7936918 ,  0.10026657],\n",
       "        [-0.10026661,  0.7936918 ]]], dtype=float32)"
      ]
     },
     "execution_count": 19,
     "metadata": {},
     "output_type": "execute_result"
    }
   ],
   "source": [
    "weights"
   ]
  },
  {
   "cell_type": "code",
   "execution_count": 25,
   "id": "eebc297d",
   "metadata": {},
   "outputs": [
    {
     "data": {
      "text/plain": [
       "(5, 2, 2)"
      ]
     },
     "execution_count": 25,
     "metadata": {},
     "output_type": "execute_result"
    }
   ],
   "source": [
    "weights.shape"
   ]
  },
  {
   "cell_type": "code",
   "execution_count": 20,
   "id": "ebcafdde",
   "metadata": {},
   "outputs": [
    {
     "data": {
      "text/plain": [
       "Array([[ 1.        ,  0.        ],\n",
       "       [ 0.30901697,  0.95105654],\n",
       "       [-0.809017  ,  0.5877852 ],\n",
       "       [-0.80901694, -0.58778536],\n",
       "       [ 0.30901712, -0.9510565 ]], dtype=float32)"
      ]
     },
     "execution_count": 20,
     "metadata": {},
     "output_type": "execute_result"
    }
   ],
   "source": [
    "biases"
   ]
  },
  {
   "cell_type": "code",
   "execution_count": 26,
   "id": "4f4e9e57",
   "metadata": {},
   "outputs": [
    {
     "data": {
      "text/plain": [
       "(5, 2)"
      ]
     },
     "execution_count": 26,
     "metadata": {},
     "output_type": "execute_result"
    }
   ],
   "source": [
    "biases.shape"
   ]
  },
  {
   "cell_type": "code",
   "execution_count": 21,
   "id": "7f790624",
   "metadata": {},
   "outputs": [
    {
     "data": {
      "text/plain": [
       "Array([[[0.001, 0.   ],\n",
       "        [0.   , 0.001]],\n",
       "\n",
       "       [[0.001, 0.   ],\n",
       "        [0.   , 0.001]],\n",
       "\n",
       "       [[0.001, 0.   ],\n",
       "        [0.   , 0.001]],\n",
       "\n",
       "       [[0.001, 0.   ],\n",
       "        [0.   , 0.001]],\n",
       "\n",
       "       [[0.001, 0.   ],\n",
       "        [0.   , 0.001]]], dtype=float32)"
      ]
     },
     "execution_count": 21,
     "metadata": {},
     "output_type": "execute_result"
    }
   ],
   "source": [
    "covariances"
   ]
  },
  {
   "cell_type": "code",
   "execution_count": 27,
   "id": "56c9cab8",
   "metadata": {},
   "outputs": [
    {
     "data": {
      "text/plain": [
       "(5, 2, 2)"
      ]
     },
     "execution_count": 27,
     "metadata": {},
     "output_type": "execute_result"
    }
   ],
   "source": [
    "covariances.shape"
   ]
  },
  {
   "cell_type": "code",
   "execution_count": 23,
   "id": "681fd5a0",
   "metadata": {},
   "outputs": [
    {
     "data": {
      "text/plain": [
       "Array([[ 3.9209812, -1.9056123],\n",
       "       [ 3.0239954,  3.140209 ],\n",
       "       [-2.05205  ,  3.8463686],\n",
       "       [-4.292233 , -0.7630239],\n",
       "       [-0.6006943, -4.3179426]], dtype=float32)"
      ]
     },
     "execution_count": 23,
     "metadata": {},
     "output_type": "execute_result"
    }
   ],
   "source": [
    "stationary_points"
   ]
  },
  {
   "cell_type": "code",
   "execution_count": 24,
   "id": "587bdffb",
   "metadata": {},
   "outputs": [],
   "source": [
    "# Make an Autoregressive (AR) HMM\n",
    "true_arhmm = LinearAutoregressiveHMM(num_states, emission_dim, num_lags=num_lags)\n",
    "true_params, _ = true_arhmm.initialize(initial_probs=jnp.ones(num_states) / num_states,\n",
    "                                       transition_matrix=transition_matrix,\n",
    "                                       emission_weights=weights,\n",
    "                                       emission_biases=biases,\n",
    "                                       emission_covariances=covariances)\n",
    "\n",
    "time_bins = 10000\n",
    "true_states, emissions = true_arhmm.sample(true_params, jr.PRNGKey(0), time_bins)\n",
    "\n",
    "# Compute the lagged emissions (aka inputs)\n",
    "inputs = true_arhmm.compute_inputs(emissions)"
   ]
  },
  {
   "cell_type": "code",
   "execution_count": 31,
   "id": "f217bb47",
   "metadata": {},
   "outputs": [
    {
     "data": {
      "text/plain": [
       "ParamsLinearAutoregressiveHMM(initial=ParamsStandardHMMInitialState(probs=Array([0.2, 0.2, 0.2, 0.2, 0.2], dtype=float32)), transitions=ParamsStandardHMMTransitions(transition_matrix=Array([[9.4581336e-01, 5.3262077e-02, 9.2364586e-04, 9.0199791e-07,\n",
       "        0.0000000e+00],\n",
       "       [0.0000000e+00, 9.4581336e-01, 5.3262077e-02, 9.2364586e-04,\n",
       "        9.0199791e-07],\n",
       "       [9.0199791e-07, 0.0000000e+00, 9.4581336e-01, 5.3262077e-02,\n",
       "        9.2364586e-04],\n",
       "       [9.2364586e-04, 9.0199791e-07, 0.0000000e+00, 9.4581336e-01,\n",
       "        5.3262077e-02],\n",
       "       [5.3262077e-02, 9.2364586e-04, 9.0199791e-07, 0.0000000e+00,\n",
       "        9.4581336e-01]], dtype=float32)), emissions=ParamsLinearRegressionHMMEmissions(weights=Array([[[ 0.79369175,  0.10026659],\n",
       "        [-0.1002666 ,  0.7936918 ]],\n",
       "\n",
       "       [[ 0.7936918 ,  0.10026659],\n",
       "        [-0.1002666 ,  0.7936918 ]],\n",
       "\n",
       "       [[ 0.79369175,  0.10026657],\n",
       "        [-0.1002666 ,  0.7936918 ]],\n",
       "\n",
       "       [[ 0.7936918 ,  0.10026665],\n",
       "        [-0.10026653,  0.7936918 ]],\n",
       "\n",
       "       [[ 0.7936918 ,  0.10026657],\n",
       "        [-0.10026661,  0.7936918 ]]], dtype=float32), biases=Array([[ 1.        ,  0.        ],\n",
       "       [ 0.30901697,  0.95105654],\n",
       "       [-0.809017  ,  0.5877852 ],\n",
       "       [-0.80901694, -0.58778536],\n",
       "       [ 0.30901712, -0.9510565 ]], dtype=float32), covs=Array([[[0.001, 0.   ],\n",
       "        [0.   , 0.001]],\n",
       "\n",
       "       [[0.001, 0.   ],\n",
       "        [0.   , 0.001]],\n",
       "\n",
       "       [[0.001, 0.   ],\n",
       "        [0.   , 0.001]],\n",
       "\n",
       "       [[0.001, 0.   ],\n",
       "        [0.   , 0.001]],\n",
       "\n",
       "       [[0.001, 0.   ],\n",
       "        [0.   , 0.001]]], dtype=float32)))"
      ]
     },
     "execution_count": 31,
     "metadata": {},
     "output_type": "execute_result"
    }
   ],
   "source": [
    "true_params"
   ]
  },
  {
   "cell_type": "code",
   "execution_count": 32,
   "id": "6d088a13",
   "metadata": {},
   "outputs": [
    {
     "data": {
      "text/plain": [
       "Array(2, dtype=int32)"
      ]
     },
     "execution_count": 32,
     "metadata": {},
     "output_type": "execute_result"
    }
   ],
   "source": [
    "true_states[0]"
   ]
  },
  {
   "cell_type": "code",
   "execution_count": 33,
   "id": "bcf0f5c1",
   "metadata": {},
   "outputs": [
    {
     "data": {
      "text/plain": [
       "Array([-0.7690557,  0.5864475], dtype=float32)"
      ]
     },
     "execution_count": 33,
     "metadata": {},
     "output_type": "execute_result"
    }
   ],
   "source": [
    "emissions[0]"
   ]
  },
  {
   "cell_type": "code",
   "execution_count": 34,
   "id": "4af9cabf",
   "metadata": {},
   "outputs": [
    {
     "data": {
      "text/plain": [
       "Array([[ 0.        ,  0.        ],\n",
       "       [-0.7690557 ,  0.5864475 ],\n",
       "       [-1.3324498 ,  1.1148314 ],\n",
       "       ...,\n",
       "       [ 0.4610385 ,  2.3752773 ],\n",
       "       [-0.18958817,  2.410761  ],\n",
       "       [-0.71763384,  2.5379286 ]], dtype=float32)"
      ]
     },
     "execution_count": 34,
     "metadata": {},
     "output_type": "execute_result"
    }
   ],
   "source": [
    "inputs"
   ]
  },
  {
   "cell_type": "code",
   "execution_count": null,
   "id": "d9a40385",
   "metadata": {},
   "outputs": [],
   "source": [
    "emissions[true_states==k]"
   ]
  },
  {
   "cell_type": "code",
   "execution_count": null,
   "id": "4e022e8f",
   "metadata": {},
   "outputs": [],
   "source": [
    "fig = plt.figure(figsize=(8, 8))\n",
    "for k in range(num_states):\n",
    "    plt.plot(*emissions[true_states==k].T, 'o', color=colors[k],\n",
    "         alpha=0.75, markersize=3)\n",
    "    \n",
    "plt.plot(*emissions[:1000].T, '-k', lw=0.5, alpha=0.2)\n",
    "plt.xlabel(\"$x_1$\")\n",
    "plt.ylabel(\"$x_2$\")"
   ]
  }
 ],
 "metadata": {
  "kernelspec": {
   "display_name": "def_env",
   "language": "python",
   "name": "def_env"
  },
  "language_info": {
   "codemirror_mode": {
    "name": "ipython",
    "version": 3
   },
   "file_extension": ".py",
   "mimetype": "text/x-python",
   "name": "python",
   "nbconvert_exporter": "python",
   "pygments_lexer": "ipython3",
   "version": "3.11.0"
  }
 },
 "nbformat": 4,
 "nbformat_minor": 5
}
