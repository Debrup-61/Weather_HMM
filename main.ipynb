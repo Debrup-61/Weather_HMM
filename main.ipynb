{
 "cells": [
  {
   "cell_type": "markdown",
   "id": "9ab9b442",
   "metadata": {},
   "source": [
    "### Import required libraries"
   ]
  },
  {
   "cell_type": "code",
   "execution_count": null,
   "id": "8063051a",
   "metadata": {},
   "outputs": [],
   "source": [
    "import numpy as np\n",
    "import pandas as pd\n",
    "import matplotlib.pyplot as plt\n",
    "import matplotlib.dates as mdates\n",
    "import seaborn as sns\n",
    "import warnings\n",
    "from hmmlearn import hmm\n"
   ]
  },
  {
   "cell_type": "markdown",
   "id": "f771ac5f",
   "metadata": {},
   "source": [
    "### Suppress warnings and set plot style"
   ]
  },
  {
   "cell_type": "code",
   "execution_count": null,
   "id": "6a827c94",
   "metadata": {},
   "outputs": [],
   "source": [
    "warnings.simplefilter(action ='ignore')\n",
    "plt.style.use('seaborn')"
   ]
  },
  {
   "cell_type": "markdown",
   "id": "6d50bc2c",
   "metadata": {},
   "source": [
    "### Read from the CSV File"
   ]
  },
  {
   "cell_type": "code",
   "execution_count": null,
   "id": "9ea776f7",
   "metadata": {},
   "outputs": [],
   "source": [
    "df = pd.read_csv('weatherAUS.csv')\n",
    "df.head()"
   ]
  },
  {
   "cell_type": "markdown",
   "id": "b03df966",
   "metadata": {},
   "source": [
    "### Look at the statistics of the dataset"
   ]
  },
  {
   "cell_type": "code",
   "execution_count": null,
   "id": "0d05fd9c",
   "metadata": {},
   "outputs": [],
   "source": [
    "df.describe()"
   ]
  },
  {
   "cell_type": "markdown",
   "id": "183013d4",
   "metadata": {},
   "source": [
    "### Look at number of Nulls and data types"
   ]
  },
  {
   "cell_type": "code",
   "execution_count": null,
   "id": "53a19dfc",
   "metadata": {},
   "outputs": [],
   "source": [
    "data_types = pd.DataFrame(df.dtypes, columns=['Data Types'])\n",
    "count_of_nulls = pd.DataFrame(df.isnull().sum(), columns=['Count of Nulls'])\n",
    "data_dictionary = pd.concat([data_types, count_of_nulls], axis='columns')\n",
    "data_dictionary"
   ]
  },
  {
   "cell_type": "markdown",
   "id": "2f8208fd",
   "metadata": {},
   "source": [
    "### Remove Columns having high percentage of NaNs"
   ]
  },
  {
   "cell_type": "code",
   "execution_count": null,
   "id": "a8860c4c",
   "metadata": {},
   "outputs": [],
   "source": [
    "col = ['Sunshine', 'Evaporation', 'Cloud9am', 'Cloud3pm']\n",
    "df.drop(col, axis=1, inplace=True)\n",
    "df"
   ]
  },
  {
   "cell_type": "markdown",
   "id": "ab8fa3a9",
   "metadata": {},
   "source": [
    "### Replace the NaNs by mean in (Int, Float) and last value in (Date, Location)"
   ]
  },
  {
   "cell_type": "code",
   "execution_count": null,
   "id": "650f6544",
   "metadata": {},
   "outputs": [],
   "source": [
    "# Replace numerical columns with mean\n",
    "def replace_numerical(df1):\n",
    "    for col in df1.select_dtypes(['int', 'float']):\n",
    "        df1[col] = df1[col].fillna(df1[col].mean())\n",
    "    return df1\n",
    "\n",
    "# Replace object columns with last row value \n",
    "def replace_object(df1):\n",
    "    for col in df1.select_dtypes('object'):\n",
    "        df1[col] = df1[col].fillna(method='ffill')\n",
    "    return df1"
   ]
  },
  {
   "cell_type": "code",
   "execution_count": null,
   "id": "bfda8bb9",
   "metadata": {},
   "outputs": [],
   "source": [
    "df = replace_numerical(df)\n",
    "df= replace_object(df)"
   ]
  },
  {
   "cell_type": "markdown",
   "id": "915f0b00",
   "metadata": {},
   "source": [
    "### Check no NaNs values"
   ]
  },
  {
   "cell_type": "code",
   "execution_count": null,
   "id": "e9197cc1",
   "metadata": {},
   "outputs": [],
   "source": [
    "df.isnull().sum()"
   ]
  },
  {
   "cell_type": "markdown",
   "id": "3c9017d6",
   "metadata": {},
   "source": [
    "### Visualize the rainfall in each year "
   ]
  },
  {
   "cell_type": "code",
   "execution_count": null,
   "id": "f35656bf",
   "metadata": {},
   "outputs": [],
   "source": [
    "df['Date'] = pd.to_datetime(df['Date'], errors='coerce')\n",
    "rainfall =[df['Date'].dt.year, df['Date'].dt.month, df['Rainfall']]\n",
    "headers = ['Year', 'Month', 'Rainfall']\n",
    "rainfall_df = pd.concat(rainfall, axis=1, keys=headers)\n",
    "\n",
    "plt.figure(figsize=(10,8))\n",
    "a = rainfall_df.groupby('Month').agg({'Rainfall':'sum'})\n",
    "a.plot(kind='bar', color='green')\n",
    "plt.title('Rainfall distribution in each month', fontsize=15)\n",
    "plt.xlabel('Month', fontsize=10)\n",
    "plt.ylabel('Rainfall (in mm)', fontsize=10)\n",
    "plt.xticks(rotation=0)"
   ]
  },
  {
   "cell_type": "markdown",
   "id": "649745bb",
   "metadata": {},
   "source": [
    "### Visualize the rainfall across all different regions of Australia"
   ]
  },
  {
   "cell_type": "code",
   "execution_count": null,
   "id": "7a1dce12",
   "metadata": {},
   "outputs": [],
   "source": [
    "plt.figure(figsize=(10,8))\n",
    "plt.scatter(df['Location'],df['Rainfall'])\n",
    "plt.xlabel(\"Location\")\n",
    "plt.xticks(rotation=90)\n",
    "plt.ylabel(\"Rainfall\")\n",
    "plt.show()"
   ]
  },
  {
   "cell_type": "code",
   "execution_count": null,
   "id": "bdc5747f",
   "metadata": {},
   "outputs": [],
   "source": [
    "df[\"Date\"].dtype"
   ]
  },
  {
   "cell_type": "markdown",
   "id": "8542963f",
   "metadata": {},
   "source": [
    "### Visualize the distributions of the features"
   ]
  },
  {
   "cell_type": "code",
   "execution_count": null,
   "id": "f907d999",
   "metadata": {},
   "outputs": [],
   "source": [
    "r=4\n",
    "eps=3\n",
    "continuous = [col for col in df.columns if (df[col].dtype != object and df[col].dtype !=df[\"Date\"].dtype) ]\n",
    "\n",
    "fig, axes = plt.subplots(nrows=r,ncols=int(len(continuous)/r), figsize=(12, 18))\n",
    "axes = axes.reshape(-1)\n",
    "\n",
    "for i, col in enumerate(continuous):\n",
    "    sns.histplot(df[col], ax=axes[i])\n",
    "    left=min(df[col])+eps\n",
    "    right=max(df[col])+eps\n",
    "    ##print(left,right)\n",
    "    if col==\"Rainfall\":\n",
    "      axes[i].set_xlim(0, 1)\n",
    "   "
   ]
  },
  {
   "cell_type": "code",
   "execution_count": null,
   "id": "a0a6e3ac",
   "metadata": {},
   "outputs": [],
   "source": [
    "continuous"
   ]
  },
  {
   "cell_type": "code",
   "execution_count": null,
   "id": "6463cd06",
   "metadata": {},
   "outputs": [],
   "source": [
    "df.dtypes"
   ]
  },
  {
   "cell_type": "code",
   "execution_count": null,
   "id": "0782bb25",
   "metadata": {},
   "outputs": [],
   "source": [
    "# comparison of WindGustDir, WindDir9am and WindDir3pm\n",
    "\n",
    "fig, ax = plt.subplots(3, 1, figsize=(10,8))\n",
    "\n",
    "# WindGustDir\n",
    "sns.countplot(x=df['WindGustDir'], palette=['#9b59b6','#3498db'], ax=ax[0])\n",
    "ax[0].set_title(\"Wind Gust Direction\", fontsize=10)\n",
    "\n",
    "# WindGustDir\n",
    "sns.countplot(x=df['WindDir9am'], palette= ['#7fcdbb' , '#fc9272'], ax=ax[1])\n",
    "ax[1].set_title(\"Wind Direction at 9AM\", fontsize=10)\n",
    "\n",
    "# WindGustDir\n",
    "sns.countplot(x=df['WindDir3pm'], palette=['#432371',\"#FAAE7B\"], ax=ax[2])\n",
    "ax[2].set_title(\"Wind Direction at 3PM\", fontsize=10)\n",
    "fig.tight_layout()"
   ]
  },
  {
   "cell_type": "code",
   "execution_count": null,
   "id": "f3029b45",
   "metadata": {},
   "outputs": [],
   "source": [
    "cat=['WindGustDir','WindDir9am','WindDir3pm']"
   ]
  },
  {
   "cell_type": "code",
   "execution_count": null,
   "id": "fb90d325",
   "metadata": {},
   "outputs": [],
   "source": [
    "df.drop(cat,axis=1,inplace=True) "
   ]
  },
  {
   "cell_type": "code",
   "execution_count": null,
   "id": "9987be05",
   "metadata": {},
   "outputs": [],
   "source": [
    "df.columns"
   ]
  },
  {
   "cell_type": "markdown",
   "id": "15cf3751",
   "metadata": {},
   "source": [
    "### Convert the categorical values to one-hot encoded vectors"
   ]
  },
  {
   "cell_type": "code",
   "execution_count": null,
   "id": "f54c185d",
   "metadata": {},
   "outputs": [],
   "source": [
    "#one_hot_encoded_df = pd.get_dummies(df, columns = ['WindGustDir','WindDir9am','WindDir3pm'])\n",
    "#print((one_hot_encoded_df).columns)"
   ]
  },
  {
   "cell_type": "code",
   "execution_count": null,
   "id": "ae50d73c",
   "metadata": {},
   "outputs": [],
   "source": [
    "from sklearn.preprocessing import LabelEncoder\n",
    "Label_Encoder = LabelEncoder()\n",
    "df['RainToday']=Label_Encoder.fit_transform(df['RainToday'].astype(str))\n",
    "df['RainTomorrow']=Label_Encoder.fit_transform(df['RainTomorrow'].astype(str))\n"
   ]
  },
  {
   "cell_type": "code",
   "execution_count": null,
   "id": "6ec95611",
   "metadata": {},
   "outputs": [],
   "source": [
    "#one_hot_encoded_df.head()"
   ]
  },
  {
   "cell_type": "markdown",
   "id": "5eacf5cd",
   "metadata": {},
   "source": [
    "### Get Subset of all the data for Cairns(which has max rainfall)"
   ]
  },
  {
   "cell_type": "code",
   "execution_count": null,
   "id": "5e2acede",
   "metadata": {
    "scrolled": true
   },
   "outputs": [],
   "source": [
    "df_cairns=df[df['Location']=='Cairns']"
   ]
  },
  {
   "cell_type": "code",
   "execution_count": null,
   "id": "cf8e175d",
   "metadata": {},
   "outputs": [],
   "source": [
    "df_cairns.head()"
   ]
  },
  {
   "cell_type": "markdown",
   "id": "f978e185",
   "metadata": {},
   "source": [
    "### Split into target variable and input"
   ]
  },
  {
   "cell_type": "code",
   "execution_count": null,
   "id": "cc4ae577",
   "metadata": {},
   "outputs": [],
   "source": [
    "df_cairns_x = df_cairns.drop(['RainTomorrow','RainToday','Location','Date'],axis=1)"
   ]
  },
  {
   "cell_type": "code",
   "execution_count": null,
   "id": "d6a06f20",
   "metadata": {},
   "outputs": [],
   "source": [
    "df_cairns_x.head()"
   ]
  },
  {
   "cell_type": "code",
   "execution_count": null,
   "id": "897184f7",
   "metadata": {},
   "outputs": [],
   "source": [
    "df_cairns_norm=df_cairns_x.apply(lambda x: (x-x.mean())/ x.std(), axis=0)"
   ]
  },
  {
   "cell_type": "code",
   "execution_count": null,
   "id": "370dcb69",
   "metadata": {
    "scrolled": true
   },
   "outputs": [],
   "source": [
    "df_cairns_norm.head()"
   ]
  },
  {
   "cell_type": "code",
   "execution_count": null,
   "id": "e0a95a5b",
   "metadata": {},
   "outputs": [],
   "source": [
    "fig, ax = plt.subplots(4, 2, figsize=(15,25))\n",
    "\n",
    "# WindSpeed9am\n",
    "sns.distplot(df_cairns_norm['WindSpeed9am'], ax=ax[0,0], color='green')\n",
    "ax[0,0].set_title(\"Wind Speed at 9AM\", fontsize=15)\n",
    "\n",
    "# WindSpeed3pm\n",
    "sns.distplot(df_cairns_norm['WindSpeed3pm'], ax=ax[0,1], color='green')\n",
    "ax[0,1].set_title(\"Wind Speed at 3PM\", fontsize=15)\n",
    "\n",
    "# Humidity9am\n",
    "sns.distplot(df_cairns_norm['Humidity9am'], ax=ax[1,0], color='orange')\n",
    "ax[1,0].set_title(\"Humidity at 9AM\", fontsize=15)\n",
    "\n",
    "# Humidity3pm\n",
    "sns.distplot(df_cairns_norm['Humidity3pm'], ax=ax[1,1], color='orange')\n",
    "ax[1,1].set_title(\"Humidity at 3PM\", fontsize=15)\n",
    "\n",
    "# Pressure9am\n",
    "sns.distplot(df_cairns_norm['Pressure9am'], ax=ax[2,0], color='red')\n",
    "ax[2,0].set_title(\"Pressure at 9AM\", fontsize=15)\n",
    "\n",
    "# Pressure3pm\n",
    "sns.distplot(df_cairns_norm['Pressure3pm'], ax=ax[2,1], color='red')\n",
    "ax[2,1].set_title(\"Pressure at 3PM\", fontsize=15)\n",
    "\n",
    "# Temp9am\n",
    "sns.distplot(df_cairns_norm['Temp9am'], ax=ax[3,0], color='blue')\n",
    "ax[3,0].set_title(\"Temperature at 9AM\", fontsize=15)\n",
    "\n",
    "# Temp3pm\n",
    "sns.distplot(df_cairns_norm['Temp3pm'], ax=ax[3,1], color='blue')\n",
    "ax[3,1].set_title(\"Temperature at 3PM\", fontsize=15)\n"
   ]
  },
  {
   "cell_type": "code",
   "execution_count": null,
   "id": "8dedf72f",
   "metadata": {},
   "outputs": [],
   "source": [
    "x = df_cairns_norm.values\n",
    "y = df_cairns['RainTomorrow'].values"
   ]
  },
  {
   "cell_type": "code",
   "execution_count": null,
   "id": "83a8c4b9",
   "metadata": {},
   "outputs": [],
   "source": [
    "print(type(x),type(y))"
   ]
  },
  {
   "cell_type": "code",
   "execution_count": null,
   "id": "8d30119a",
   "metadata": {},
   "outputs": [],
   "source": [
    "print(x[0])\n",
    "print(y[0:5])"
   ]
  },
  {
   "cell_type": "code",
   "execution_count": null,
   "id": "dad16dd6",
   "metadata": {},
   "outputs": [],
   "source": [
    "x.shape"
   ]
  },
  {
   "cell_type": "markdown",
   "id": "7cf8f513",
   "metadata": {},
   "source": [
    "### Split into training and test set"
   ]
  },
  {
   "cell_type": "code",
   "execution_count": null,
   "id": "3f65b611",
   "metadata": {},
   "outputs": [],
   "source": [
    "from sklearn.model_selection import train_test_split\n",
    "x_train,x_test,y_train,y_test = train_test_split(x,y,test_size=0.01,random_state=100) "
   ]
  },
  {
   "cell_type": "code",
   "execution_count": null,
   "id": "3346e9fc",
   "metadata": {},
   "outputs": [],
   "source": [
    "assert np.count_nonzero(np.isfinite(x_train))==(x_train.shape[0])*(x_train.shape[1])\n",
    "assert np.count_nonzero(np.isfinite(x_test))==(x_test.shape[0])*(x_test.shape[1])"
   ]
  },
  {
   "cell_type": "code",
   "execution_count": null,
   "id": "0594a18a",
   "metadata": {},
   "outputs": [],
   "source": [
    "x_train.shape"
   ]
  },
  {
   "cell_type": "code",
   "execution_count": null,
   "id": "9cd1623b",
   "metadata": {},
   "outputs": [],
   "source": [
    "x_test.shape"
   ]
  },
  {
   "cell_type": "code",
   "execution_count": null,
   "id": "820432a3",
   "metadata": {},
   "outputs": [],
   "source": [
    "## Define the parameters of the HMM \n",
    "\n",
    "num_states = 30\n",
    "emission_dim = 12 \n",
    "\n",
    "#num_lags = 1\n",
    "##sgd_hmm = LinearAutoregressiveHMM(num_states=num_states, emission_dim=emission_dim, num_lags=num_lags,transition_matrix_stickiness=10.0)\n",
    "##train_emissions =np.copy(np.around(x_train,decimals=2))\n"
   ]
  },
  {
   "cell_type": "markdown",
   "id": "6439ea1b",
   "metadata": {},
   "source": [
    "### Visualize the clustering of the training set"
   ]
  },
  {
   "cell_type": "code",
   "execution_count": null,
   "id": "3ad31ed6",
   "metadata": {},
   "outputs": [],
   "source": [
    "### Plot the elbow plot to find optimal value of n_clusters"
   ]
  },
  {
   "cell_type": "code",
   "execution_count": null,
   "id": "d003d5e8",
   "metadata": {},
   "outputs": [],
   "source": [
    "from sklearn.cluster import KMeans\n",
    "from scipy.spatial.distance import cdist\n",
    "\n",
    "distortions = []\n",
    "inertias = []\n",
    "mapping1 = {}\n",
    "mapping2 = {}\n",
    "\n",
    "K = range(1, 10)\n",
    "  \n",
    "for k in K:\n",
    "    \n",
    "    # Building and fitting the model\n",
    "    kmeanModel = KMeans(n_clusters=k).fit(x_train)\n",
    "    kmeanModel.fit(x_train)\n",
    "  \n",
    "    distortions.append(sum(np.min(cdist(x_train, kmeanModel.cluster_centers_,\n",
    "                                        'euclidean'), axis=1)) / x_train.shape[0])\n",
    "    inertias.append(kmeanModel.inertia_)\n",
    "  \n",
    "    mapping1[k] = sum(np.min(cdist(x_train, kmeanModel.cluster_centers_,\n",
    "                                   'euclidean'), axis=1)) / x_train.shape[0]\n",
    "    mapping2[k] = kmeanModel.inertia_\n",
    "    \n",
    "plt.plot(K, distortions, 'bx-')\n",
    "plt.xlabel('Values of K')\n",
    "plt.ylabel('Distortions')\n",
    "plt.title('The Elbow Method using Distortion')\n",
    "plt.show()    "
   ]
  },
  {
   "cell_type": "code",
   "execution_count": null,
   "id": "1c01d0cb",
   "metadata": {},
   "outputs": [],
   "source": [
    "### Use k-means to categorize the 12 continuous features into clusters"
   ]
  },
  {
   "cell_type": "code",
   "execution_count": null,
   "id": "61c36012",
   "metadata": {},
   "outputs": [],
   "source": [
    "kmeans = KMeans(n_clusters=num_states, random_state=0, n_init=\"auto\").fit(x_train)\n",
    "print(kmeans.labels_)\n",
    "print(kmeans.cluster_centers_)"
   ]
  },
  {
   "cell_type": "code",
   "execution_count": null,
   "id": "7523cdec",
   "metadata": {},
   "outputs": [],
   "source": [
    "from sklearn.decomposition import PCA\n",
    "\n",
    "pca = PCA(2)    # PCA object for 2-D plot\n",
    "\n",
    "#Transform the data\n",
    "pca_train = pca.fit_transform(x_train)\n",
    "pca_test = pca.transform(x_test)\n",
    "\n",
    "\n",
    "print(\"Explained Variance\",pca.explained_variance_ratio_)\n",
    "print(\"Pca transformed Data\", pca_train)\n",
    "\n"
   ]
  },
  {
   "cell_type": "code",
   "execution_count": null,
   "id": "5f7309ac",
   "metadata": {},
   "outputs": [],
   "source": [
    "print(pca_test)"
   ]
  },
  {
   "cell_type": "code",
   "execution_count": null,
   "id": "8a0e832c",
   "metadata": {},
   "outputs": [],
   "source": [
    "color = [0,1,2,3,4,5,6]"
   ]
  },
  {
   "cell_type": "code",
   "execution_count": null,
   "id": "f1b13312",
   "metadata": {},
   "outputs": [],
   "source": [
    "#Getting unique labels\n",
    "u_labels = np.unique(kmeans.labels_)\n",
    "train_label = kmeans.labels_\n",
    "test_label = kmeans.predict(x_test)\n",
    "\n",
    "#plotting the results:\n",
    "for i in u_labels:\n",
    "    plt.scatter(pca_train[train_label == i , 0] , pca_train[train_label == i , 1] , label=i)\n",
    "    ##plt.scatter(pca_test[test_label == i , 0] , pca_test[test_label == i , 1] , label=color[i], marker=\"v\")\n",
    "    \n",
    "plt.title(\"The Visualization of Clusters\")\n",
    "plt.xlabel(\"Dim 1\")\n",
    "plt.ylabel(\"Dim 2\")\n",
    "##plt.legend()\n",
    "plt.show()"
   ]
  },
  {
   "cell_type": "code",
   "execution_count": null,
   "id": "ef468f91",
   "metadata": {},
   "outputs": [],
   "source": [
    "### Use the train_label as hidden states and the binary array y_train as the emissions"
   ]
  },
  {
   "cell_type": "code",
   "execution_count": null,
   "id": "37d8ca6d",
   "metadata": {},
   "outputs": [],
   "source": [
    "## Implement the HMM Model by giving input (hiddenstate, emission) pairs"
   ]
  },
  {
   "cell_type": "code",
   "execution_count": null,
   "id": "c0e864ee",
   "metadata": {},
   "outputs": [],
   "source": [
    "# Define the set of hidden states and emissions\n",
    "hidden_states =list(range(0,num_states))\n",
    "emissions = [0, 1]\n",
    "\n",
    "# Define the observed sequence and corresponding hidden state sequence\n",
    "observed_sequence = (y_train).tolist()\n",
    "hidden_state_sequence = train_label.tolist()\n",
    "\n",
    "print(\"Observed Sequence Sample\",observed_sequence[0:10])\n",
    "print(\"Hidden State Sample\",hidden_state_sequence[0:10])\n",
    "\n",
    "# Compute the emission matrix\n",
    "emission_matrix = np.zeros((len(hidden_states), len(emissions)))\n",
    "\n",
    "for i, state in enumerate(hidden_states):\n",
    "    for j, emission in enumerate(emissions):\n",
    "        count = sum(1 for k in range(len(observed_sequence)) if observed_sequence[k] == emission and hidden_state_sequence[k] == state)\n",
    "        emission_matrix[i][j] = count / sum(1 for k in range(len(hidden_state_sequence)) if hidden_state_sequence[k] == state)\n",
    "\n",
    "# Compute the transition matrix\n",
    "transition_matrix = np.zeros((len(hidden_states), len(hidden_states)))\n",
    "for i, state1 in enumerate(hidden_states):\n",
    "    for j, state2 in enumerate(hidden_states):\n",
    "        count = sum(1 for k in range(len(hidden_state_sequence)-1) if hidden_state_sequence[k] == state1 and hidden_state_sequence[k+1] == state2)\n",
    "        transition_matrix[i][j] = count / sum(1 for k in range(len(hidden_state_sequence)-1) if hidden_state_sequence[k] == state1)\n",
    "\n",
    "# Print the computed matrices\n",
    "print(\"Emission matrix:\")\n",
    "print(emission_matrix)\n",
    "print(\"Transition matrix:\")\n",
    "print(transition_matrix)"
   ]
  },
  {
   "cell_type": "code",
   "execution_count": null,
   "id": "dcdf62c5",
   "metadata": {},
   "outputs": [],
   "source": [
    "test_label"
   ]
  },
  {
   "cell_type": "code",
   "execution_count": null,
   "id": "a2975ab8",
   "metadata": {},
   "outputs": [],
   "source": [
    "# Predict on the test set (using the hidden states, predict observations 0/1)"
   ]
  },
  {
   "cell_type": "code",
   "execution_count": null,
   "id": "10dbe460",
   "metadata": {},
   "outputs": [],
   "source": [
    "## Sample using the emission probabilities\n",
    "import random\n",
    "test_predy=[]\n",
    "\n",
    "for i in test_label:\n",
    "   \n",
    "   #if (emission_matrix[i][0]>=emission_matrix[i][1])\n",
    "    #   test_predy.append(0);\n",
    "   #else:\n",
    "    #   test_predy.append(1);\n",
    "\n",
    "   r = random.uniform(0, 1)\n",
    "   \n",
    "   if (r<emission_matrix[i][0]):\n",
    "        test_predy.append(0);\n",
    "        \n",
    "   else:\n",
    "        test_predy.append(1);\n",
    "        \n",
    "      "
   ]
  },
  {
   "cell_type": "code",
   "execution_count": null,
   "id": "277c23f7",
   "metadata": {},
   "outputs": [],
   "source": [
    "test_predy"
   ]
  },
  {
   "cell_type": "code",
   "execution_count": null,
   "id": "390f676e",
   "metadata": {},
   "outputs": [],
   "source": [
    "y_test"
   ]
  },
  {
   "cell_type": "code",
   "execution_count": null,
   "id": "9ac03cc3",
   "metadata": {},
   "outputs": [],
   "source": [
    "from sklearn.metrics import accuracy_score\n",
    "accuracy = accuracy_score(test_predy,y_test)"
   ]
  },
  {
   "cell_type": "code",
   "execution_count": null,
   "id": "cbeb105b",
   "metadata": {},
   "outputs": [],
   "source": [
    "accuracy*100"
   ]
  },
  {
   "cell_type": "code",
   "execution_count": null,
   "id": "f3ee3524",
   "metadata": {},
   "outputs": [],
   "source": []
  },
  {
   "cell_type": "code",
   "execution_count": null,
   "id": "bf436165",
   "metadata": {},
   "outputs": [],
   "source": []
  }
 ],
 "metadata": {
  "kernelspec": {
   "display_name": "def_env",
   "language": "python",
   "name": "def_env"
  },
  "language_info": {
   "codemirror_mode": {
    "name": "ipython",
    "version": 3
   },
   "file_extension": ".py",
   "mimetype": "text/x-python",
   "name": "python",
   "nbconvert_exporter": "python",
   "pygments_lexer": "ipython3",
   "version": "3.11.0"
  }
 },
 "nbformat": 4,
 "nbformat_minor": 5
}
